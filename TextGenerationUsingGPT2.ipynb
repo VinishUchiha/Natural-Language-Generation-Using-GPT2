{
  "nbformat": 4,
  "nbformat_minor": 0,
  "metadata": {
    "colab": {
      "name": "TextGenerationUsingGPT2.ipynb",
      "provenance": [],
      "authorship_tag": "ABX9TyMhdNUTWHsY+/0iVE82psHo",
      "include_colab_link": true
    },
    "kernelspec": {
      "name": "python3",
      "display_name": "Python 3"
    },
    "accelerator": "GPU",
    "widgets": {
      "application/vnd.jupyter.widget-state+json": {
        "adebebbec5ff4dd8a1e37e83edaae1ac": {
          "model_module": "@jupyter-widgets/controls",
          "model_name": "HBoxModel",
          "state": {
            "_view_name": "HBoxView",
            "_dom_classes": [],
            "_model_name": "HBoxModel",
            "_view_module": "@jupyter-widgets/controls",
            "_model_module_version": "1.5.0",
            "_view_count": null,
            "_view_module_version": "1.5.0",
            "box_style": "",
            "layout": "IPY_MODEL_6910e29ddbe34281b4ac85f733c4cf23",
            "_model_module": "@jupyter-widgets/controls",
            "children": [
              "IPY_MODEL_56b519db47e848f18592728785a52bf4",
              "IPY_MODEL_7d3f7cb0f5104bd39dd4d9813cda3ba5"
            ]
          }
        },
        "6910e29ddbe34281b4ac85f733c4cf23": {
          "model_module": "@jupyter-widgets/base",
          "model_name": "LayoutModel",
          "state": {
            "_view_name": "LayoutView",
            "grid_template_rows": null,
            "right": null,
            "justify_content": null,
            "_view_module": "@jupyter-widgets/base",
            "overflow": null,
            "_model_module_version": "1.2.0",
            "_view_count": null,
            "flex_flow": null,
            "width": null,
            "min_width": null,
            "border": null,
            "align_items": null,
            "bottom": null,
            "_model_module": "@jupyter-widgets/base",
            "top": null,
            "grid_column": null,
            "overflow_y": null,
            "overflow_x": null,
            "grid_auto_flow": null,
            "grid_area": null,
            "grid_template_columns": null,
            "flex": null,
            "_model_name": "LayoutModel",
            "justify_items": null,
            "grid_row": null,
            "max_height": null,
            "align_content": null,
            "visibility": null,
            "align_self": null,
            "height": null,
            "min_height": null,
            "padding": null,
            "grid_auto_rows": null,
            "grid_gap": null,
            "max_width": null,
            "order": null,
            "_view_module_version": "1.2.0",
            "grid_template_areas": null,
            "object_position": null,
            "object_fit": null,
            "grid_auto_columns": null,
            "margin": null,
            "display": null,
            "left": null
          }
        },
        "56b519db47e848f18592728785a52bf4": {
          "model_module": "@jupyter-widgets/controls",
          "model_name": "FloatProgressModel",
          "state": {
            "_view_name": "ProgressView",
            "style": "IPY_MODEL_62db5c786a354d2bba8a4d9c2846ad06",
            "_dom_classes": [],
            "description": "Downloading: 100%",
            "_model_name": "FloatProgressModel",
            "bar_style": "success",
            "max": 1042301,
            "_view_module": "@jupyter-widgets/controls",
            "_model_module_version": "1.5.0",
            "value": 1042301,
            "_view_count": null,
            "_view_module_version": "1.5.0",
            "orientation": "horizontal",
            "min": 0,
            "description_tooltip": null,
            "_model_module": "@jupyter-widgets/controls",
            "layout": "IPY_MODEL_ba20d75064f3497f8a89dc452e78b62c"
          }
        },
        "7d3f7cb0f5104bd39dd4d9813cda3ba5": {
          "model_module": "@jupyter-widgets/controls",
          "model_name": "HTMLModel",
          "state": {
            "_view_name": "HTMLView",
            "style": "IPY_MODEL_b69b6e09873b44f99cf8493254de0d4c",
            "_dom_classes": [],
            "description": "",
            "_model_name": "HTMLModel",
            "placeholder": "​",
            "_view_module": "@jupyter-widgets/controls",
            "_model_module_version": "1.5.0",
            "value": " 1.04M/1.04M [00:01&lt;00:00, 714kB/s]",
            "_view_count": null,
            "_view_module_version": "1.5.0",
            "description_tooltip": null,
            "_model_module": "@jupyter-widgets/controls",
            "layout": "IPY_MODEL_11b0262a37bf4e08bee076d0fc83da3c"
          }
        },
        "62db5c786a354d2bba8a4d9c2846ad06": {
          "model_module": "@jupyter-widgets/controls",
          "model_name": "ProgressStyleModel",
          "state": {
            "_view_name": "StyleView",
            "_model_name": "ProgressStyleModel",
            "description_width": "initial",
            "_view_module": "@jupyter-widgets/base",
            "_model_module_version": "1.5.0",
            "_view_count": null,
            "_view_module_version": "1.2.0",
            "bar_color": null,
            "_model_module": "@jupyter-widgets/controls"
          }
        },
        "ba20d75064f3497f8a89dc452e78b62c": {
          "model_module": "@jupyter-widgets/base",
          "model_name": "LayoutModel",
          "state": {
            "_view_name": "LayoutView",
            "grid_template_rows": null,
            "right": null,
            "justify_content": null,
            "_view_module": "@jupyter-widgets/base",
            "overflow": null,
            "_model_module_version": "1.2.0",
            "_view_count": null,
            "flex_flow": null,
            "width": null,
            "min_width": null,
            "border": null,
            "align_items": null,
            "bottom": null,
            "_model_module": "@jupyter-widgets/base",
            "top": null,
            "grid_column": null,
            "overflow_y": null,
            "overflow_x": null,
            "grid_auto_flow": null,
            "grid_area": null,
            "grid_template_columns": null,
            "flex": null,
            "_model_name": "LayoutModel",
            "justify_items": null,
            "grid_row": null,
            "max_height": null,
            "align_content": null,
            "visibility": null,
            "align_self": null,
            "height": null,
            "min_height": null,
            "padding": null,
            "grid_auto_rows": null,
            "grid_gap": null,
            "max_width": null,
            "order": null,
            "_view_module_version": "1.2.0",
            "grid_template_areas": null,
            "object_position": null,
            "object_fit": null,
            "grid_auto_columns": null,
            "margin": null,
            "display": null,
            "left": null
          }
        },
        "b69b6e09873b44f99cf8493254de0d4c": {
          "model_module": "@jupyter-widgets/controls",
          "model_name": "DescriptionStyleModel",
          "state": {
            "_view_name": "StyleView",
            "_model_name": "DescriptionStyleModel",
            "description_width": "",
            "_view_module": "@jupyter-widgets/base",
            "_model_module_version": "1.5.0",
            "_view_count": null,
            "_view_module_version": "1.2.0",
            "_model_module": "@jupyter-widgets/controls"
          }
        },
        "11b0262a37bf4e08bee076d0fc83da3c": {
          "model_module": "@jupyter-widgets/base",
          "model_name": "LayoutModel",
          "state": {
            "_view_name": "LayoutView",
            "grid_template_rows": null,
            "right": null,
            "justify_content": null,
            "_view_module": "@jupyter-widgets/base",
            "overflow": null,
            "_model_module_version": "1.2.0",
            "_view_count": null,
            "flex_flow": null,
            "width": null,
            "min_width": null,
            "border": null,
            "align_items": null,
            "bottom": null,
            "_model_module": "@jupyter-widgets/base",
            "top": null,
            "grid_column": null,
            "overflow_y": null,
            "overflow_x": null,
            "grid_auto_flow": null,
            "grid_area": null,
            "grid_template_columns": null,
            "flex": null,
            "_model_name": "LayoutModel",
            "justify_items": null,
            "grid_row": null,
            "max_height": null,
            "align_content": null,
            "visibility": null,
            "align_self": null,
            "height": null,
            "min_height": null,
            "padding": null,
            "grid_auto_rows": null,
            "grid_gap": null,
            "max_width": null,
            "order": null,
            "_view_module_version": "1.2.0",
            "grid_template_areas": null,
            "object_position": null,
            "object_fit": null,
            "grid_auto_columns": null,
            "margin": null,
            "display": null,
            "left": null
          }
        },
        "8b2435b5ea9f47808249412882a37ad4": {
          "model_module": "@jupyter-widgets/controls",
          "model_name": "HBoxModel",
          "state": {
            "_view_name": "HBoxView",
            "_dom_classes": [],
            "_model_name": "HBoxModel",
            "_view_module": "@jupyter-widgets/controls",
            "_model_module_version": "1.5.0",
            "_view_count": null,
            "_view_module_version": "1.5.0",
            "box_style": "",
            "layout": "IPY_MODEL_dc2fee4d7609471fa05dac80f9800dfb",
            "_model_module": "@jupyter-widgets/controls",
            "children": [
              "IPY_MODEL_d605a3b7def44ff39a9488a2f604356c",
              "IPY_MODEL_c795dc51e5414f11bf127bb3693e0dec"
            ]
          }
        },
        "dc2fee4d7609471fa05dac80f9800dfb": {
          "model_module": "@jupyter-widgets/base",
          "model_name": "LayoutModel",
          "state": {
            "_view_name": "LayoutView",
            "grid_template_rows": null,
            "right": null,
            "justify_content": null,
            "_view_module": "@jupyter-widgets/base",
            "overflow": null,
            "_model_module_version": "1.2.0",
            "_view_count": null,
            "flex_flow": null,
            "width": null,
            "min_width": null,
            "border": null,
            "align_items": null,
            "bottom": null,
            "_model_module": "@jupyter-widgets/base",
            "top": null,
            "grid_column": null,
            "overflow_y": null,
            "overflow_x": null,
            "grid_auto_flow": null,
            "grid_area": null,
            "grid_template_columns": null,
            "flex": null,
            "_model_name": "LayoutModel",
            "justify_items": null,
            "grid_row": null,
            "max_height": null,
            "align_content": null,
            "visibility": null,
            "align_self": null,
            "height": null,
            "min_height": null,
            "padding": null,
            "grid_auto_rows": null,
            "grid_gap": null,
            "max_width": null,
            "order": null,
            "_view_module_version": "1.2.0",
            "grid_template_areas": null,
            "object_position": null,
            "object_fit": null,
            "grid_auto_columns": null,
            "margin": null,
            "display": null,
            "left": null
          }
        },
        "d605a3b7def44ff39a9488a2f604356c": {
          "model_module": "@jupyter-widgets/controls",
          "model_name": "FloatProgressModel",
          "state": {
            "_view_name": "ProgressView",
            "style": "IPY_MODEL_a1bdb8d3979542ea802efdc20e3cb989",
            "_dom_classes": [],
            "description": "Downloading: 100%",
            "_model_name": "FloatProgressModel",
            "bar_style": "success",
            "max": 456318,
            "_view_module": "@jupyter-widgets/controls",
            "_model_module_version": "1.5.0",
            "value": 456318,
            "_view_count": null,
            "_view_module_version": "1.5.0",
            "orientation": "horizontal",
            "min": 0,
            "description_tooltip": null,
            "_model_module": "@jupyter-widgets/controls",
            "layout": "IPY_MODEL_fea31bc48a8641cbbe195bb3f08cdc54"
          }
        },
        "c795dc51e5414f11bf127bb3693e0dec": {
          "model_module": "@jupyter-widgets/controls",
          "model_name": "HTMLModel",
          "state": {
            "_view_name": "HTMLView",
            "style": "IPY_MODEL_0e47d035cdf6493e90282c8644877195",
            "_dom_classes": [],
            "description": "",
            "_model_name": "HTMLModel",
            "placeholder": "​",
            "_view_module": "@jupyter-widgets/controls",
            "_model_module_version": "1.5.0",
            "value": " 456k/456k [00:00&lt;00:00, 1.01MB/s]",
            "_view_count": null,
            "_view_module_version": "1.5.0",
            "description_tooltip": null,
            "_model_module": "@jupyter-widgets/controls",
            "layout": "IPY_MODEL_116f3bf57b1a4650a03f5ebcf6ef8176"
          }
        },
        "a1bdb8d3979542ea802efdc20e3cb989": {
          "model_module": "@jupyter-widgets/controls",
          "model_name": "ProgressStyleModel",
          "state": {
            "_view_name": "StyleView",
            "_model_name": "ProgressStyleModel",
            "description_width": "initial",
            "_view_module": "@jupyter-widgets/base",
            "_model_module_version": "1.5.0",
            "_view_count": null,
            "_view_module_version": "1.2.0",
            "bar_color": null,
            "_model_module": "@jupyter-widgets/controls"
          }
        },
        "fea31bc48a8641cbbe195bb3f08cdc54": {
          "model_module": "@jupyter-widgets/base",
          "model_name": "LayoutModel",
          "state": {
            "_view_name": "LayoutView",
            "grid_template_rows": null,
            "right": null,
            "justify_content": null,
            "_view_module": "@jupyter-widgets/base",
            "overflow": null,
            "_model_module_version": "1.2.0",
            "_view_count": null,
            "flex_flow": null,
            "width": null,
            "min_width": null,
            "border": null,
            "align_items": null,
            "bottom": null,
            "_model_module": "@jupyter-widgets/base",
            "top": null,
            "grid_column": null,
            "overflow_y": null,
            "overflow_x": null,
            "grid_auto_flow": null,
            "grid_area": null,
            "grid_template_columns": null,
            "flex": null,
            "_model_name": "LayoutModel",
            "justify_items": null,
            "grid_row": null,
            "max_height": null,
            "align_content": null,
            "visibility": null,
            "align_self": null,
            "height": null,
            "min_height": null,
            "padding": null,
            "grid_auto_rows": null,
            "grid_gap": null,
            "max_width": null,
            "order": null,
            "_view_module_version": "1.2.0",
            "grid_template_areas": null,
            "object_position": null,
            "object_fit": null,
            "grid_auto_columns": null,
            "margin": null,
            "display": null,
            "left": null
          }
        },
        "0e47d035cdf6493e90282c8644877195": {
          "model_module": "@jupyter-widgets/controls",
          "model_name": "DescriptionStyleModel",
          "state": {
            "_view_name": "StyleView",
            "_model_name": "DescriptionStyleModel",
            "description_width": "",
            "_view_module": "@jupyter-widgets/base",
            "_model_module_version": "1.5.0",
            "_view_count": null,
            "_view_module_version": "1.2.0",
            "_model_module": "@jupyter-widgets/controls"
          }
        },
        "116f3bf57b1a4650a03f5ebcf6ef8176": {
          "model_module": "@jupyter-widgets/base",
          "model_name": "LayoutModel",
          "state": {
            "_view_name": "LayoutView",
            "grid_template_rows": null,
            "right": null,
            "justify_content": null,
            "_view_module": "@jupyter-widgets/base",
            "overflow": null,
            "_model_module_version": "1.2.0",
            "_view_count": null,
            "flex_flow": null,
            "width": null,
            "min_width": null,
            "border": null,
            "align_items": null,
            "bottom": null,
            "_model_module": "@jupyter-widgets/base",
            "top": null,
            "grid_column": null,
            "overflow_y": null,
            "overflow_x": null,
            "grid_auto_flow": null,
            "grid_area": null,
            "grid_template_columns": null,
            "flex": null,
            "_model_name": "LayoutModel",
            "justify_items": null,
            "grid_row": null,
            "max_height": null,
            "align_content": null,
            "visibility": null,
            "align_self": null,
            "height": null,
            "min_height": null,
            "padding": null,
            "grid_auto_rows": null,
            "grid_gap": null,
            "max_width": null,
            "order": null,
            "_view_module_version": "1.2.0",
            "grid_template_areas": null,
            "object_position": null,
            "object_fit": null,
            "grid_auto_columns": null,
            "margin": null,
            "display": null,
            "left": null
          }
        },
        "388c698d237c4f3cb3d5717d04b6af11": {
          "model_module": "@jupyter-widgets/controls",
          "model_name": "HBoxModel",
          "state": {
            "_view_name": "HBoxView",
            "_dom_classes": [],
            "_model_name": "HBoxModel",
            "_view_module": "@jupyter-widgets/controls",
            "_model_module_version": "1.5.0",
            "_view_count": null,
            "_view_module_version": "1.5.0",
            "box_style": "",
            "layout": "IPY_MODEL_593b58a824fa4bc6ae7c669970cb88d6",
            "_model_module": "@jupyter-widgets/controls",
            "children": [
              "IPY_MODEL_89f919ecd4ad4824a2e0b0aa0c09c836",
              "IPY_MODEL_dddd249b9d5d424e87ae0373ef25bca4"
            ]
          }
        },
        "593b58a824fa4bc6ae7c669970cb88d6": {
          "model_module": "@jupyter-widgets/base",
          "model_name": "LayoutModel",
          "state": {
            "_view_name": "LayoutView",
            "grid_template_rows": null,
            "right": null,
            "justify_content": null,
            "_view_module": "@jupyter-widgets/base",
            "overflow": null,
            "_model_module_version": "1.2.0",
            "_view_count": null,
            "flex_flow": null,
            "width": null,
            "min_width": null,
            "border": null,
            "align_items": null,
            "bottom": null,
            "_model_module": "@jupyter-widgets/base",
            "top": null,
            "grid_column": null,
            "overflow_y": null,
            "overflow_x": null,
            "grid_auto_flow": null,
            "grid_area": null,
            "grid_template_columns": null,
            "flex": null,
            "_model_name": "LayoutModel",
            "justify_items": null,
            "grid_row": null,
            "max_height": null,
            "align_content": null,
            "visibility": null,
            "align_self": null,
            "height": null,
            "min_height": null,
            "padding": null,
            "grid_auto_rows": null,
            "grid_gap": null,
            "max_width": null,
            "order": null,
            "_view_module_version": "1.2.0",
            "grid_template_areas": null,
            "object_position": null,
            "object_fit": null,
            "grid_auto_columns": null,
            "margin": null,
            "display": null,
            "left": null
          }
        },
        "89f919ecd4ad4824a2e0b0aa0c09c836": {
          "model_module": "@jupyter-widgets/controls",
          "model_name": "FloatProgressModel",
          "state": {
            "_view_name": "ProgressView",
            "style": "IPY_MODEL_bd7f6fe991da4403bc6a9766882f78a3",
            "_dom_classes": [],
            "description": "Downloading: 100%",
            "_model_name": "FloatProgressModel",
            "bar_style": "success",
            "max": 665,
            "_view_module": "@jupyter-widgets/controls",
            "_model_module_version": "1.5.0",
            "value": 665,
            "_view_count": null,
            "_view_module_version": "1.5.0",
            "orientation": "horizontal",
            "min": 0,
            "description_tooltip": null,
            "_model_module": "@jupyter-widgets/controls",
            "layout": "IPY_MODEL_0712c0105c1144949d353d62eedc4957"
          }
        },
        "dddd249b9d5d424e87ae0373ef25bca4": {
          "model_module": "@jupyter-widgets/controls",
          "model_name": "HTMLModel",
          "state": {
            "_view_name": "HTMLView",
            "style": "IPY_MODEL_68b2634bf4ad473898c63355be2e533b",
            "_dom_classes": [],
            "description": "",
            "_model_name": "HTMLModel",
            "placeholder": "​",
            "_view_module": "@jupyter-widgets/controls",
            "_model_module_version": "1.5.0",
            "value": " 665/665 [00:09&lt;00:00, 71.0B/s]",
            "_view_count": null,
            "_view_module_version": "1.5.0",
            "description_tooltip": null,
            "_model_module": "@jupyter-widgets/controls",
            "layout": "IPY_MODEL_669938aa9ebd411fb90760309413e98a"
          }
        },
        "bd7f6fe991da4403bc6a9766882f78a3": {
          "model_module": "@jupyter-widgets/controls",
          "model_name": "ProgressStyleModel",
          "state": {
            "_view_name": "StyleView",
            "_model_name": "ProgressStyleModel",
            "description_width": "initial",
            "_view_module": "@jupyter-widgets/base",
            "_model_module_version": "1.5.0",
            "_view_count": null,
            "_view_module_version": "1.2.0",
            "bar_color": null,
            "_model_module": "@jupyter-widgets/controls"
          }
        },
        "0712c0105c1144949d353d62eedc4957": {
          "model_module": "@jupyter-widgets/base",
          "model_name": "LayoutModel",
          "state": {
            "_view_name": "LayoutView",
            "grid_template_rows": null,
            "right": null,
            "justify_content": null,
            "_view_module": "@jupyter-widgets/base",
            "overflow": null,
            "_model_module_version": "1.2.0",
            "_view_count": null,
            "flex_flow": null,
            "width": null,
            "min_width": null,
            "border": null,
            "align_items": null,
            "bottom": null,
            "_model_module": "@jupyter-widgets/base",
            "top": null,
            "grid_column": null,
            "overflow_y": null,
            "overflow_x": null,
            "grid_auto_flow": null,
            "grid_area": null,
            "grid_template_columns": null,
            "flex": null,
            "_model_name": "LayoutModel",
            "justify_items": null,
            "grid_row": null,
            "max_height": null,
            "align_content": null,
            "visibility": null,
            "align_self": null,
            "height": null,
            "min_height": null,
            "padding": null,
            "grid_auto_rows": null,
            "grid_gap": null,
            "max_width": null,
            "order": null,
            "_view_module_version": "1.2.0",
            "grid_template_areas": null,
            "object_position": null,
            "object_fit": null,
            "grid_auto_columns": null,
            "margin": null,
            "display": null,
            "left": null
          }
        },
        "68b2634bf4ad473898c63355be2e533b": {
          "model_module": "@jupyter-widgets/controls",
          "model_name": "DescriptionStyleModel",
          "state": {
            "_view_name": "StyleView",
            "_model_name": "DescriptionStyleModel",
            "description_width": "",
            "_view_module": "@jupyter-widgets/base",
            "_model_module_version": "1.5.0",
            "_view_count": null,
            "_view_module_version": "1.2.0",
            "_model_module": "@jupyter-widgets/controls"
          }
        },
        "669938aa9ebd411fb90760309413e98a": {
          "model_module": "@jupyter-widgets/base",
          "model_name": "LayoutModel",
          "state": {
            "_view_name": "LayoutView",
            "grid_template_rows": null,
            "right": null,
            "justify_content": null,
            "_view_module": "@jupyter-widgets/base",
            "overflow": null,
            "_model_module_version": "1.2.0",
            "_view_count": null,
            "flex_flow": null,
            "width": null,
            "min_width": null,
            "border": null,
            "align_items": null,
            "bottom": null,
            "_model_module": "@jupyter-widgets/base",
            "top": null,
            "grid_column": null,
            "overflow_y": null,
            "overflow_x": null,
            "grid_auto_flow": null,
            "grid_area": null,
            "grid_template_columns": null,
            "flex": null,
            "_model_name": "LayoutModel",
            "justify_items": null,
            "grid_row": null,
            "max_height": null,
            "align_content": null,
            "visibility": null,
            "align_self": null,
            "height": null,
            "min_height": null,
            "padding": null,
            "grid_auto_rows": null,
            "grid_gap": null,
            "max_width": null,
            "order": null,
            "_view_module_version": "1.2.0",
            "grid_template_areas": null,
            "object_position": null,
            "object_fit": null,
            "grid_auto_columns": null,
            "margin": null,
            "display": null,
            "left": null
          }
        },
        "fa24e04eb63242039558ab31a0ef30bf": {
          "model_module": "@jupyter-widgets/controls",
          "model_name": "HBoxModel",
          "state": {
            "_view_name": "HBoxView",
            "_dom_classes": [],
            "_model_name": "HBoxModel",
            "_view_module": "@jupyter-widgets/controls",
            "_model_module_version": "1.5.0",
            "_view_count": null,
            "_view_module_version": "1.5.0",
            "box_style": "",
            "layout": "IPY_MODEL_596a66cb456c479a92219f8e0f6f47ff",
            "_model_module": "@jupyter-widgets/controls",
            "children": [
              "IPY_MODEL_1aba8e5a7fab4f41926b0cb7ab65a8ea",
              "IPY_MODEL_1c86a50fb6b743a2a5c90a3fa3edb2b6"
            ]
          }
        },
        "596a66cb456c479a92219f8e0f6f47ff": {
          "model_module": "@jupyter-widgets/base",
          "model_name": "LayoutModel",
          "state": {
            "_view_name": "LayoutView",
            "grid_template_rows": null,
            "right": null,
            "justify_content": null,
            "_view_module": "@jupyter-widgets/base",
            "overflow": null,
            "_model_module_version": "1.2.0",
            "_view_count": null,
            "flex_flow": null,
            "width": null,
            "min_width": null,
            "border": null,
            "align_items": null,
            "bottom": null,
            "_model_module": "@jupyter-widgets/base",
            "top": null,
            "grid_column": null,
            "overflow_y": null,
            "overflow_x": null,
            "grid_auto_flow": null,
            "grid_area": null,
            "grid_template_columns": null,
            "flex": null,
            "_model_name": "LayoutModel",
            "justify_items": null,
            "grid_row": null,
            "max_height": null,
            "align_content": null,
            "visibility": null,
            "align_self": null,
            "height": null,
            "min_height": null,
            "padding": null,
            "grid_auto_rows": null,
            "grid_gap": null,
            "max_width": null,
            "order": null,
            "_view_module_version": "1.2.0",
            "grid_template_areas": null,
            "object_position": null,
            "object_fit": null,
            "grid_auto_columns": null,
            "margin": null,
            "display": null,
            "left": null
          }
        },
        "1aba8e5a7fab4f41926b0cb7ab65a8ea": {
          "model_module": "@jupyter-widgets/controls",
          "model_name": "FloatProgressModel",
          "state": {
            "_view_name": "ProgressView",
            "style": "IPY_MODEL_1dc9e2fe47f848ff8ed8ca140780172d",
            "_dom_classes": [],
            "description": "Downloading: 100%",
            "_model_name": "FloatProgressModel",
            "bar_style": "success",
            "max": 497933648,
            "_view_module": "@jupyter-widgets/controls",
            "_model_module_version": "1.5.0",
            "value": 497933648,
            "_view_count": null,
            "_view_module_version": "1.5.0",
            "orientation": "horizontal",
            "min": 0,
            "description_tooltip": null,
            "_model_module": "@jupyter-widgets/controls",
            "layout": "IPY_MODEL_ed82edfbb33a44889d9b4930606f8388"
          }
        },
        "1c86a50fb6b743a2a5c90a3fa3edb2b6": {
          "model_module": "@jupyter-widgets/controls",
          "model_name": "HTMLModel",
          "state": {
            "_view_name": "HTMLView",
            "style": "IPY_MODEL_9f15ed20f03b4124bf73ccfdb5f9c405",
            "_dom_classes": [],
            "description": "",
            "_model_name": "HTMLModel",
            "placeholder": "​",
            "_view_module": "@jupyter-widgets/controls",
            "_model_module_version": "1.5.0",
            "value": " 498M/498M [00:08&lt;00:00, 57.7MB/s]",
            "_view_count": null,
            "_view_module_version": "1.5.0",
            "description_tooltip": null,
            "_model_module": "@jupyter-widgets/controls",
            "layout": "IPY_MODEL_9acf15bb392746bea0a08b535da63191"
          }
        },
        "1dc9e2fe47f848ff8ed8ca140780172d": {
          "model_module": "@jupyter-widgets/controls",
          "model_name": "ProgressStyleModel",
          "state": {
            "_view_name": "StyleView",
            "_model_name": "ProgressStyleModel",
            "description_width": "initial",
            "_view_module": "@jupyter-widgets/base",
            "_model_module_version": "1.5.0",
            "_view_count": null,
            "_view_module_version": "1.2.0",
            "bar_color": null,
            "_model_module": "@jupyter-widgets/controls"
          }
        },
        "ed82edfbb33a44889d9b4930606f8388": {
          "model_module": "@jupyter-widgets/base",
          "model_name": "LayoutModel",
          "state": {
            "_view_name": "LayoutView",
            "grid_template_rows": null,
            "right": null,
            "justify_content": null,
            "_view_module": "@jupyter-widgets/base",
            "overflow": null,
            "_model_module_version": "1.2.0",
            "_view_count": null,
            "flex_flow": null,
            "width": null,
            "min_width": null,
            "border": null,
            "align_items": null,
            "bottom": null,
            "_model_module": "@jupyter-widgets/base",
            "top": null,
            "grid_column": null,
            "overflow_y": null,
            "overflow_x": null,
            "grid_auto_flow": null,
            "grid_area": null,
            "grid_template_columns": null,
            "flex": null,
            "_model_name": "LayoutModel",
            "justify_items": null,
            "grid_row": null,
            "max_height": null,
            "align_content": null,
            "visibility": null,
            "align_self": null,
            "height": null,
            "min_height": null,
            "padding": null,
            "grid_auto_rows": null,
            "grid_gap": null,
            "max_width": null,
            "order": null,
            "_view_module_version": "1.2.0",
            "grid_template_areas": null,
            "object_position": null,
            "object_fit": null,
            "grid_auto_columns": null,
            "margin": null,
            "display": null,
            "left": null
          }
        },
        "9f15ed20f03b4124bf73ccfdb5f9c405": {
          "model_module": "@jupyter-widgets/controls",
          "model_name": "DescriptionStyleModel",
          "state": {
            "_view_name": "StyleView",
            "_model_name": "DescriptionStyleModel",
            "description_width": "",
            "_view_module": "@jupyter-widgets/base",
            "_model_module_version": "1.5.0",
            "_view_count": null,
            "_view_module_version": "1.2.0",
            "_model_module": "@jupyter-widgets/controls"
          }
        },
        "9acf15bb392746bea0a08b535da63191": {
          "model_module": "@jupyter-widgets/base",
          "model_name": "LayoutModel",
          "state": {
            "_view_name": "LayoutView",
            "grid_template_rows": null,
            "right": null,
            "justify_content": null,
            "_view_module": "@jupyter-widgets/base",
            "overflow": null,
            "_model_module_version": "1.2.0",
            "_view_count": null,
            "flex_flow": null,
            "width": null,
            "min_width": null,
            "border": null,
            "align_items": null,
            "bottom": null,
            "_model_module": "@jupyter-widgets/base",
            "top": null,
            "grid_column": null,
            "overflow_y": null,
            "overflow_x": null,
            "grid_auto_flow": null,
            "grid_area": null,
            "grid_template_columns": null,
            "flex": null,
            "_model_name": "LayoutModel",
            "justify_items": null,
            "grid_row": null,
            "max_height": null,
            "align_content": null,
            "visibility": null,
            "align_self": null,
            "height": null,
            "min_height": null,
            "padding": null,
            "grid_auto_rows": null,
            "grid_gap": null,
            "max_width": null,
            "order": null,
            "_view_module_version": "1.2.0",
            "grid_template_areas": null,
            "object_position": null,
            "object_fit": null,
            "grid_auto_columns": null,
            "margin": null,
            "display": null,
            "left": null
          }
        }
      }
    }
  },
  "cells": [
    {
      "cell_type": "markdown",
      "metadata": {
        "id": "view-in-github",
        "colab_type": "text"
      },
      "source": [
        "<a href=\"https://colab.research.google.com/github/VinishUchiha/Natural-Language-Generation-Using-GPT2/blob/master/TextGenerationUsingGPT2.ipynb\" target=\"_parent\"><img src=\"https://colab.research.google.com/assets/colab-badge.svg\" alt=\"Open In Colab\"/></a>"
      ]
    },
    {
      "cell_type": "code",
      "metadata": {
        "id": "XHsJy1nkEicV",
        "colab_type": "code",
        "colab": {
          "base_uri": "https://localhost:8080/",
          "height": 627
        },
        "outputId": "286c2bc0-ff2a-4fcb-a640-d1ca788301eb"
      },
      "source": [
        "!pip install transformers"
      ],
      "execution_count": 1,
      "outputs": [
        {
          "output_type": "stream",
          "text": [
            "Collecting transformers\n",
            "\u001b[?25l  Downloading https://files.pythonhosted.org/packages/48/35/ad2c5b1b8f99feaaf9d7cdadaeef261f098c6e1a6a2935d4d07662a6b780/transformers-2.11.0-py3-none-any.whl (674kB)\n",
            "\r\u001b[K     |▌                               | 10kB 24.1MB/s eta 0:00:01\r\u001b[K     |█                               | 20kB 5.2MB/s eta 0:00:01\r\u001b[K     |█▌                              | 30kB 7.1MB/s eta 0:00:01\r\u001b[K     |██                              | 40kB 7.8MB/s eta 0:00:01\r\u001b[K     |██▍                             | 51kB 6.4MB/s eta 0:00:01\r\u001b[K     |███                             | 61kB 7.0MB/s eta 0:00:01\r\u001b[K     |███▍                            | 71kB 7.9MB/s eta 0:00:01\r\u001b[K     |███▉                            | 81kB 8.3MB/s eta 0:00:01\r\u001b[K     |████▍                           | 92kB 7.8MB/s eta 0:00:01\r\u001b[K     |████▉                           | 102kB 8.5MB/s eta 0:00:01\r\u001b[K     |█████▍                          | 112kB 8.5MB/s eta 0:00:01\r\u001b[K     |█████▉                          | 122kB 8.5MB/s eta 0:00:01\r\u001b[K     |██████▎                         | 133kB 8.5MB/s eta 0:00:01\r\u001b[K     |██████▉                         | 143kB 8.5MB/s eta 0:00:01\r\u001b[K     |███████▎                        | 153kB 8.5MB/s eta 0:00:01\r\u001b[K     |███████▊                        | 163kB 8.5MB/s eta 0:00:01\r\u001b[K     |████████▎                       | 174kB 8.5MB/s eta 0:00:01\r\u001b[K     |████████▊                       | 184kB 8.5MB/s eta 0:00:01\r\u001b[K     |█████████▎                      | 194kB 8.5MB/s eta 0:00:01\r\u001b[K     |█████████▊                      | 204kB 8.5MB/s eta 0:00:01\r\u001b[K     |██████████▏                     | 215kB 8.5MB/s eta 0:00:01\r\u001b[K     |██████████▊                     | 225kB 8.5MB/s eta 0:00:01\r\u001b[K     |███████████▏                    | 235kB 8.5MB/s eta 0:00:01\r\u001b[K     |███████████▋                    | 245kB 8.5MB/s eta 0:00:01\r\u001b[K     |████████████▏                   | 256kB 8.5MB/s eta 0:00:01\r\u001b[K     |████████████▋                   | 266kB 8.5MB/s eta 0:00:01\r\u001b[K     |█████████████                   | 276kB 8.5MB/s eta 0:00:01\r\u001b[K     |█████████████▋                  | 286kB 8.5MB/s eta 0:00:01\r\u001b[K     |██████████████                  | 296kB 8.5MB/s eta 0:00:01\r\u001b[K     |██████████████▋                 | 307kB 8.5MB/s eta 0:00:01\r\u001b[K     |███████████████                 | 317kB 8.5MB/s eta 0:00:01\r\u001b[K     |███████████████▌                | 327kB 8.5MB/s eta 0:00:01\r\u001b[K     |████████████████                | 337kB 8.5MB/s eta 0:00:01\r\u001b[K     |████████████████▌               | 348kB 8.5MB/s eta 0:00:01\r\u001b[K     |█████████████████               | 358kB 8.5MB/s eta 0:00:01\r\u001b[K     |█████████████████▌              | 368kB 8.5MB/s eta 0:00:01\r\u001b[K     |██████████████████              | 378kB 8.5MB/s eta 0:00:01\r\u001b[K     |██████████████████▌             | 389kB 8.5MB/s eta 0:00:01\r\u001b[K     |███████████████████             | 399kB 8.5MB/s eta 0:00:01\r\u001b[K     |███████████████████▍            | 409kB 8.5MB/s eta 0:00:01\r\u001b[K     |████████████████████            | 419kB 8.5MB/s eta 0:00:01\r\u001b[K     |████████████████████▍           | 430kB 8.5MB/s eta 0:00:01\r\u001b[K     |████████████████████▉           | 440kB 8.5MB/s eta 0:00:01\r\u001b[K     |█████████████████████▍          | 450kB 8.5MB/s eta 0:00:01\r\u001b[K     |█████████████████████▉          | 460kB 8.5MB/s eta 0:00:01\r\u001b[K     |██████████████████████▍         | 471kB 8.5MB/s eta 0:00:01\r\u001b[K     |██████████████████████▉         | 481kB 8.5MB/s eta 0:00:01\r\u001b[K     |███████████████████████▎        | 491kB 8.5MB/s eta 0:00:01\r\u001b[K     |███████████████████████▉        | 501kB 8.5MB/s eta 0:00:01\r\u001b[K     |████████████████████████▎       | 512kB 8.5MB/s eta 0:00:01\r\u001b[K     |████████████████████████▊       | 522kB 8.5MB/s eta 0:00:01\r\u001b[K     |█████████████████████████▎      | 532kB 8.5MB/s eta 0:00:01\r\u001b[K     |█████████████████████████▊      | 542kB 8.5MB/s eta 0:00:01\r\u001b[K     |██████████████████████████▏     | 552kB 8.5MB/s eta 0:00:01\r\u001b[K     |██████████████████████████▊     | 563kB 8.5MB/s eta 0:00:01\r\u001b[K     |███████████████████████████▏    | 573kB 8.5MB/s eta 0:00:01\r\u001b[K     |███████████████████████████▊    | 583kB 8.5MB/s eta 0:00:01\r\u001b[K     |████████████████████████████▏   | 593kB 8.5MB/s eta 0:00:01\r\u001b[K     |████████████████████████████▋   | 604kB 8.5MB/s eta 0:00:01\r\u001b[K     |█████████████████████████████▏  | 614kB 8.5MB/s eta 0:00:01\r\u001b[K     |█████████████████████████████▋  | 624kB 8.5MB/s eta 0:00:01\r\u001b[K     |██████████████████████████████  | 634kB 8.5MB/s eta 0:00:01\r\u001b[K     |██████████████████████████████▋ | 645kB 8.5MB/s eta 0:00:01\r\u001b[K     |███████████████████████████████ | 655kB 8.5MB/s eta 0:00:01\r\u001b[K     |███████████████████████████████▋| 665kB 8.5MB/s eta 0:00:01\r\u001b[K     |████████████████████████████████| 675kB 8.5MB/s \n",
            "\u001b[?25hRequirement already satisfied: filelock in /usr/local/lib/python3.6/dist-packages (from transformers) (3.0.12)\n",
            "Requirement already satisfied: packaging in /usr/local/lib/python3.6/dist-packages (from transformers) (20.4)\n",
            "Requirement already satisfied: regex!=2019.12.17 in /usr/local/lib/python3.6/dist-packages (from transformers) (2019.12.20)\n",
            "Requirement already satisfied: tqdm>=4.27 in /usr/local/lib/python3.6/dist-packages (from transformers) (4.41.1)\n",
            "Collecting sacremoses\n",
            "\u001b[?25l  Downloading https://files.pythonhosted.org/packages/7d/34/09d19aff26edcc8eb2a01bed8e98f13a1537005d31e95233fd48216eed10/sacremoses-0.0.43.tar.gz (883kB)\n",
            "\u001b[K     |████████████████████████████████| 890kB 22.6MB/s \n",
            "\u001b[?25hCollecting sentencepiece\n",
            "\u001b[?25l  Downloading https://files.pythonhosted.org/packages/d4/a4/d0a884c4300004a78cca907a6ff9a5e9fe4f090f5d95ab341c53d28cbc58/sentencepiece-0.1.91-cp36-cp36m-manylinux1_x86_64.whl (1.1MB)\n",
            "\u001b[K     |████████████████████████████████| 1.1MB 46.4MB/s \n",
            "\u001b[?25hCollecting tokenizers==0.7.0\n",
            "\u001b[?25l  Downloading https://files.pythonhosted.org/packages/14/e5/a26eb4716523808bb0a799fcfdceb6ebf77a18169d9591b2f46a9adb87d9/tokenizers-0.7.0-cp36-cp36m-manylinux1_x86_64.whl (3.8MB)\n",
            "\u001b[K     |████████████████████████████████| 3.8MB 54.2MB/s \n",
            "\u001b[?25hRequirement already satisfied: numpy in /usr/local/lib/python3.6/dist-packages (from transformers) (1.18.5)\n",
            "Requirement already satisfied: requests in /usr/local/lib/python3.6/dist-packages (from transformers) (2.23.0)\n",
            "Requirement already satisfied: dataclasses; python_version < \"3.7\" in /usr/local/lib/python3.6/dist-packages (from transformers) (0.7)\n",
            "Requirement already satisfied: six in /usr/local/lib/python3.6/dist-packages (from packaging->transformers) (1.12.0)\n",
            "Requirement already satisfied: pyparsing>=2.0.2 in /usr/local/lib/python3.6/dist-packages (from packaging->transformers) (2.4.7)\n",
            "Requirement already satisfied: click in /usr/local/lib/python3.6/dist-packages (from sacremoses->transformers) (7.1.2)\n",
            "Requirement already satisfied: joblib in /usr/local/lib/python3.6/dist-packages (from sacremoses->transformers) (0.15.1)\n",
            "Requirement already satisfied: chardet<4,>=3.0.2 in /usr/local/lib/python3.6/dist-packages (from requests->transformers) (3.0.4)\n",
            "Requirement already satisfied: certifi>=2017.4.17 in /usr/local/lib/python3.6/dist-packages (from requests->transformers) (2020.4.5.2)\n",
            "Requirement already satisfied: idna<3,>=2.5 in /usr/local/lib/python3.6/dist-packages (from requests->transformers) (2.9)\n",
            "Requirement already satisfied: urllib3!=1.25.0,!=1.25.1,<1.26,>=1.21.1 in /usr/local/lib/python3.6/dist-packages (from requests->transformers) (1.24.3)\n",
            "Building wheels for collected packages: sacremoses\n",
            "  Building wheel for sacremoses (setup.py) ... \u001b[?25l\u001b[?25hdone\n",
            "  Created wheel for sacremoses: filename=sacremoses-0.0.43-cp36-none-any.whl size=893260 sha256=ccf88c31ec9ba316c7895c79d25890fd7846fb2994bddd0a067d3608702646e2\n",
            "  Stored in directory: /root/.cache/pip/wheels/29/3c/fd/7ce5c3f0666dab31a50123635e6fb5e19ceb42ce38d4e58f45\n",
            "Successfully built sacremoses\n",
            "Installing collected packages: sacremoses, sentencepiece, tokenizers, transformers\n",
            "Successfully installed sacremoses-0.0.43 sentencepiece-0.1.91 tokenizers-0.7.0 transformers-2.11.0\n"
          ],
          "name": "stdout"
        }
      ]
    },
    {
      "cell_type": "code",
      "metadata": {
        "id": "_HpnbJX1EnpE",
        "colab_type": "code",
        "colab": {
          "base_uri": "https://localhost:8080/",
          "height": 214,
          "referenced_widgets": [
            "adebebbec5ff4dd8a1e37e83edaae1ac",
            "6910e29ddbe34281b4ac85f733c4cf23",
            "56b519db47e848f18592728785a52bf4",
            "7d3f7cb0f5104bd39dd4d9813cda3ba5",
            "62db5c786a354d2bba8a4d9c2846ad06",
            "ba20d75064f3497f8a89dc452e78b62c",
            "b69b6e09873b44f99cf8493254de0d4c",
            "11b0262a37bf4e08bee076d0fc83da3c",
            "8b2435b5ea9f47808249412882a37ad4",
            "dc2fee4d7609471fa05dac80f9800dfb",
            "d605a3b7def44ff39a9488a2f604356c",
            "c795dc51e5414f11bf127bb3693e0dec",
            "a1bdb8d3979542ea802efdc20e3cb989",
            "fea31bc48a8641cbbe195bb3f08cdc54",
            "0e47d035cdf6493e90282c8644877195",
            "116f3bf57b1a4650a03f5ebcf6ef8176",
            "388c698d237c4f3cb3d5717d04b6af11",
            "593b58a824fa4bc6ae7c669970cb88d6",
            "89f919ecd4ad4824a2e0b0aa0c09c836",
            "dddd249b9d5d424e87ae0373ef25bca4",
            "bd7f6fe991da4403bc6a9766882f78a3",
            "0712c0105c1144949d353d62eedc4957",
            "68b2634bf4ad473898c63355be2e533b",
            "669938aa9ebd411fb90760309413e98a",
            "fa24e04eb63242039558ab31a0ef30bf",
            "596a66cb456c479a92219f8e0f6f47ff",
            "1aba8e5a7fab4f41926b0cb7ab65a8ea",
            "1c86a50fb6b743a2a5c90a3fa3edb2b6",
            "1dc9e2fe47f848ff8ed8ca140780172d",
            "ed82edfbb33a44889d9b4930606f8388",
            "9f15ed20f03b4124bf73ccfdb5f9c405",
            "9acf15bb392746bea0a08b535da63191"
          ]
        },
        "outputId": "f78f3a83-df37-463c-9e01-3576dfa00360"
      },
      "source": [
        "import tensorflow as tf\n",
        "from transformers import TFGPT2LMHeadModel, GPT2Tokenizer\n",
        "\n",
        "\n",
        "tokenizer = GPT2Tokenizer.from_pretrained(\"gpt2\")\n",
        "\n",
        "# add the EOS token as PAD token to avoid warnings\n",
        "model = TFGPT2LMHeadModel.from_pretrained(\"gpt2\", pad_token_id=tokenizer.eos_token_id)"
      ],
      "execution_count": 2,
      "outputs": [
        {
          "output_type": "display_data",
          "data": {
            "application/vnd.jupyter.widget-view+json": {
              "model_id": "adebebbec5ff4dd8a1e37e83edaae1ac",
              "version_minor": 0,
              "version_major": 2
            },
            "text/plain": [
              "HBox(children=(FloatProgress(value=0.0, description='Downloading', max=1042301.0, style=ProgressStyle(descript…"
            ]
          },
          "metadata": {
            "tags": []
          }
        },
        {
          "output_type": "stream",
          "text": [
            "\n"
          ],
          "name": "stdout"
        },
        {
          "output_type": "display_data",
          "data": {
            "application/vnd.jupyter.widget-view+json": {
              "model_id": "8b2435b5ea9f47808249412882a37ad4",
              "version_minor": 0,
              "version_major": 2
            },
            "text/plain": [
              "HBox(children=(FloatProgress(value=0.0, description='Downloading', max=456318.0, style=ProgressStyle(descripti…"
            ]
          },
          "metadata": {
            "tags": []
          }
        },
        {
          "output_type": "stream",
          "text": [
            "\n"
          ],
          "name": "stdout"
        },
        {
          "output_type": "display_data",
          "data": {
            "application/vnd.jupyter.widget-view+json": {
              "model_id": "388c698d237c4f3cb3d5717d04b6af11",
              "version_minor": 0,
              "version_major": 2
            },
            "text/plain": [
              "HBox(children=(FloatProgress(value=0.0, description='Downloading', max=665.0, style=ProgressStyle(description_…"
            ]
          },
          "metadata": {
            "tags": []
          }
        },
        {
          "output_type": "stream",
          "text": [
            "\n"
          ],
          "name": "stdout"
        },
        {
          "output_type": "display_data",
          "data": {
            "application/vnd.jupyter.widget-view+json": {
              "model_id": "fa24e04eb63242039558ab31a0ef30bf",
              "version_minor": 0,
              "version_major": 2
            },
            "text/plain": [
              "HBox(children=(FloatProgress(value=0.0, description='Downloading', max=497933648.0, style=ProgressStyle(descri…"
            ]
          },
          "metadata": {
            "tags": []
          }
        },
        {
          "output_type": "stream",
          "text": [
            "\n"
          ],
          "name": "stdout"
        }
      ]
    },
    {
      "cell_type": "code",
      "metadata": {
        "id": "lKKjTA_oEpnZ",
        "colab_type": "code",
        "colab": {
          "base_uri": "https://localhost:8080/",
          "height": 139
        },
        "outputId": "1d3ee33b-4f94-465e-efc7-d66f81a409be"
      },
      "source": [
        "# Greedy Search\n",
        "# encode context the generation is conditioned on\n",
        "input_ids = tokenizer.encode('After creating Arc Reacter,Iron man use it as a power source to his suit', return_tensors='tf')\n",
        "\n",
        "# generate text until the output length (which includes the context length) reaches 50\n",
        "greedy_output = model.generate(input_ids, max_length=50)\n",
        "\n",
        "print(\"Output:\\n\")\n",
        "print(tokenizer.decode(greedy_output[0], skip_special_tokens=True))"
      ],
      "execution_count": 3,
      "outputs": [
        {
          "output_type": "stream",
          "text": [
            "Output:\n",
            "\n",
            "After creating Arc Reacter,Iron man use it as a power source to his suit.\n",
            "\n",
            "The power source is a power source that can be used to create a new Arc Reacter.\n",
            "\n",
            "The power source can be used to create a\n"
          ],
          "name": "stdout"
        }
      ]
    },
    {
      "cell_type": "code",
      "metadata": {
        "id": "kMAyTzT-E4lH",
        "colab_type": "code",
        "colab": {
          "base_uri": "https://localhost:8080/",
          "height": 89
        },
        "outputId": "0c6334b8-3888-4bd9-e077-52b3c94dab1c"
      },
      "source": [
        "# activate beam search and early_stopping\n",
        "beam_output = model.generate(\n",
        "    input_ids,  \n",
        "    max_length=100, \n",
        "    num_beams=5, \n",
        "    early_stopping=True\n",
        ")\n",
        "\n",
        "print(\"Output:\\n\")\n",
        "print(tokenizer.decode(beam_output[0], skip_special_tokens=True))"
      ],
      "execution_count": 4,
      "outputs": [
        {
          "output_type": "stream",
          "text": [
            "Output:\n",
            "\n",
            "After creating Arc Reacter,Iron man use it as a power source to his suit. He uses it as a power source to his suit. He uses it as a power source to his suit. He uses it as a power source to his suit. He uses it as a power source to his suit. He uses it as a power source to his suit. He uses it as a power source to his suit. He uses it as a power source to his suit. He uses it as a\n"
          ],
          "name": "stdout"
        }
      ]
    },
    {
      "cell_type": "code",
      "metadata": {
        "id": "Qc3TbI15FCSf",
        "colab_type": "code",
        "colab": {
          "base_uri": "https://localhost:8080/",
          "height": 124
        },
        "outputId": "7550a474-890f-4b9b-9515-76b2887b8d02"
      },
      "source": [
        "# set no_repeat_ngram_size to 2\n",
        "beam_output = model.generate(\n",
        "    input_ids, \n",
        "    max_length=100, \n",
        "    num_beams=5, \n",
        "    no_repeat_ngram_size=2, \n",
        "    early_stopping=True\n",
        ")\n",
        "\n",
        "print(\"Output:\\n\")\n",
        "print(tokenizer.decode(beam_output[0], skip_special_tokens=True))"
      ],
      "execution_count": 5,
      "outputs": [
        {
          "output_type": "stream",
          "text": [
            "Output:\n",
            "\n",
            "After creating Arc Reacter,Iron man use it as a power source to his suit of armor.\n",
            "\n",
            "In the anime, Iron man is shown to be able to use the power of the Iron Man suit. In the manga, he uses it to power his armor, and in the video game, it is revealed that he is the only one who can use this power. It is also shown that it can be used by him to control his own body, as shown when he used it on\n"
          ],
          "name": "stdout"
        }
      ]
    },
    {
      "cell_type": "code",
      "metadata": {
        "id": "N60vfyu5FOOj",
        "colab_type": "code",
        "colab": {
          "base_uri": "https://localhost:8080/",
          "height": 332
        },
        "outputId": "b0254c6c-a1ad-4e07-e157-211b68d003b8"
      },
      "source": [
        "# set return_num_sequences > 1\n",
        "beam_outputs = model.generate(\n",
        "    input_ids, \n",
        "    max_length=100, \n",
        "    num_beams=5, \n",
        "    no_repeat_ngram_size=2, \n",
        "    num_return_sequences=5, \n",
        "    early_stopping=True\n",
        ")\n",
        "\n",
        "# now we have 3 output sequences\n",
        "print(\"Output:\\n\")\n",
        "for i, beam_output in enumerate(beam_outputs):\n",
        "  print(\"Result {}: {}\".format(i+1, tokenizer.decode(beam_output, skip_special_tokens=True)))"
      ],
      "execution_count": 6,
      "outputs": [
        {
          "output_type": "stream",
          "text": [
            "Output:\n",
            "\n",
            "Result 1: After creating Arc Reacter,Iron man use it as a power source to his suit of armor.\n",
            "\n",
            "In the anime, Iron man is shown to be able to use the power of the Iron Man suit. In the manga, he uses it to power his armor, and in the video game, it is revealed that he is the only one who can use this power. It is also shown that it can be used by him to control his own body, as shown when he used it on\n",
            "Result 2: After creating Arc Reacter,Iron man use it as a power source to his suit of armor.\n",
            "\n",
            "In the anime, Iron man is shown to be able to use the power of the Iron Man suit. In the manga, he uses it to power his armor, and in the video game, it is revealed that he is the only one who can use this power. It is also shown that it can be used by him to control his own body, as shown when he used it in\n",
            "Result 3: After creating Arc Reacter,Iron man use it as a power source to his suit of armor.\n",
            "\n",
            "In the anime, Iron man is shown to be able to use the power of the Iron Man suit. In the manga, he uses it to power his armor, and in the video game, it is revealed that he is the only one who can use this power. It is also shown that it can be used by him to control his own body, as well as by using it on\n",
            "Result 4: After creating Arc Reacter,Iron man use it as a power source to his suit of armor.\n",
            "\n",
            "In the anime, Iron man is shown to be able to use the power of the Iron Man suit. In the manga, he uses it to power his armor, and in the video game, it is revealed that he is the only one who can use this power. It is also shown that it can be used by him to control his own body, as shown when he used his Iron\n",
            "Result 5: After creating Arc Reacter,Iron man use it as a power source to his suit of armor.\n",
            "\n",
            "In the anime, Iron man is shown to be able to use the power of the Iron Man suit. In the manga, he uses it to power his armor, and in the video game, it is revealed that he is the only one who can use this power. It is also shown that it can be used by him to control his own body, as shown when he used it against\n"
          ],
          "name": "stdout"
        }
      ]
    },
    {
      "cell_type": "code",
      "metadata": {
        "id": "v_ZgruW-FoJH",
        "colab_type": "code",
        "colab": {
          "base_uri": "https://localhost:8080/",
          "height": 89
        },
        "outputId": "6242a636-4d90-4509-c451-d5ceab3949e3"
      },
      "source": [
        "# set seed to reproduce results. Feel free to change the seed though to get different results\n",
        "tf.random.set_seed(0)\n",
        "\n",
        "# activate sampling and deactivate top_k by setting top_k sampling to 0\n",
        "sample_output = model.generate(\n",
        "    input_ids, \n",
        "    do_sample=True, \n",
        "    max_length=100, \n",
        "    top_k=0\n",
        ")\n",
        "\n",
        "print(\"Output:\\n\")\n",
        "print(tokenizer.decode(sample_output[0], skip_special_tokens=True))"
      ],
      "execution_count": 7,
      "outputs": [
        {
          "output_type": "stream",
          "text": [
            "Output:\n",
            "\n",
            "After creating Arc Reacter,Iron man use it as a power source to his suit because of an important human safety complaint between righteous Iron Man (Dominique French) and defective Marvel (Maryse Menard). He helps Apocalypse over Toaffeore-Heavy metal by giving the power to her crew 2 nuclear warheads before Damage' arrival in Earth. Returning to Earth, Iron Man proceeds to attack Erik from behind as to try and act on his personal vendetta against Oracle, when he meets his hero while\n"
          ],
          "name": "stdout"
        }
      ]
    },
    {
      "cell_type": "code",
      "metadata": {
        "id": "zVsst5f-F3jh",
        "colab_type": "code",
        "colab": {
          "base_uri": "https://localhost:8080/",
          "height": 193
        },
        "outputId": "167144ed-9a1f-423a-8114-a3c09f30cbb5"
      },
      "source": [
        "# set seed to reproduce results. Feel free to change the seed though to get different results\n",
        "tf.random.set_seed(0)\n",
        "\n",
        "# use temperature to decrease the sensitivity to low probability candidates\n",
        "sample_output = model.generate(\n",
        "    input_ids, \n",
        "    do_sample=True, \n",
        "    max_length=100, \n",
        "    top_k=0, \n",
        "    temperature=0.7\n",
        ")\n",
        "\n",
        "print(\"Output:\\n\")\n",
        "print(tokenizer.decode(sample_output[0], skip_special_tokens=True))"
      ],
      "execution_count": 12,
      "outputs": [
        {
          "output_type": "stream",
          "text": [
            "Output:\n",
            "\n",
            "After creating Arc Reacter,Iron man use it as a power source to his suit, as well as to his suit's suit's energy source.\n",
            "\n",
            "Contents show]\n",
            "\n",
            "History Edit\n",
            "\n",
            "A few years after the accident, Iron Man was attacked by Team Leader Badass Busters and the Busters used the hero's energy source to power a super-powered suit, Iron Man's Iron Man armor. In his suit, Iron Man used a large power source to power his suit while\n"
          ],
          "name": "stdout"
        }
      ]
    },
    {
      "cell_type": "code",
      "metadata": {
        "id": "0Z-pQtJ9F_iG",
        "colab_type": "code",
        "colab": {
          "base_uri": "https://localhost:8080/",
          "height": 193
        },
        "outputId": "e1bb373a-478a-453b-86f0-6b511948f549"
      },
      "source": [
        "# set seed to reproduce results. Feel free to change the seed though to get different results\n",
        "tf.random.set_seed(0)\n",
        "\n",
        "# set top_k to 50\n",
        "sample_output = model.generate(\n",
        "    input_ids, \n",
        "    do_sample=True, \n",
        "    max_length=100, \n",
        "    top_k=50\n",
        ")\n",
        "\n",
        "print(\"Output:\\n\")\n",
        "print(tokenizer.decode(sample_output[0], skip_special_tokens=True))"
      ],
      "execution_count": 13,
      "outputs": [
        {
          "output_type": "stream",
          "text": [
            "Output:\n",
            "\n",
            "After creating Arc Reacter,Iron man use it as a power source to his suit because of an explosion from the past, but at high damage before he could charge the weapon, he was thrown, his body falling into the ground.\"\n",
            "\n",
            "-Annie Rokku\n",
            "\n",
            "An Iron Man who had his first two body parts recovered. An Iron Man who had his first two body parts recovered.\n",
            "\n",
            "\"This man possesses enormous power. If not for the fact he can use an energy\n"
          ],
          "name": "stdout"
        }
      ]
    },
    {
      "cell_type": "code",
      "metadata": {
        "id": "K2tpGXUSGQ1P",
        "colab_type": "code",
        "colab": {
          "base_uri": "https://localhost:8080/",
          "height": 124
        },
        "outputId": "2683d999-d0bd-446a-861f-16e260db8b6a"
      },
      "source": [
        "# set seed to reproduce results. Feel free to change the seed though to get different results\n",
        "tf.random.set_seed(0)\n",
        "\n",
        "# deactivate top_k sampling and sample only from 92% most likely words\n",
        "sample_output = model.generate(\n",
        "    input_ids, \n",
        "    do_sample=True, \n",
        "    max_length=100, \n",
        "    top_p=0.92, \n",
        "    top_k=0\n",
        ")\n",
        "\n",
        "print(\"Output:\\n\")\n",
        "print(tokenizer.decode(sample_output[0], skip_special_tokens=True))"
      ],
      "execution_count": 14,
      "outputs": [
        {
          "output_type": "stream",
          "text": [
            "Output:\n",
            "\n",
            "After creating Arc Reacter,Iron man use it as a power source to his suit because of an important human safety complaint made about Iron Man (usually Caity Lotz and Marvel Comics, but especially Super Hero Boy and Apocalypse over there by Supreme-Heavy) because he said \"Hold her!\" and the opponent was \"Do you really think she would?! If she didn't, what would have happened?\"\n",
            "\n",
            "Superhuman Superhuman speed: Precisely one of the Speed Gods. Highly accelerated\n"
          ],
          "name": "stdout"
        }
      ]
    },
    {
      "cell_type": "code",
      "metadata": {
        "id": "OLWgxuW0GWxY",
        "colab_type": "code",
        "colab": {
          "base_uri": "https://localhost:8080/",
          "height": 228
        },
        "outputId": "0aaddfed-21be-43b7-e60b-56d16c924696"
      },
      "source": [
        "# set seed to reproduce results. Feel free to change the seed though to get different results\n",
        "tf.random.set_seed(0)\n",
        "\n",
        "# set top_k = 50 and set top_p = 0.95 and num_return_sequences = 3\n",
        "sample_outputs = model.generate(\n",
        "    input_ids,\n",
        "    do_sample=True, \n",
        "    max_length=100, \n",
        "    top_k=50, \n",
        "    top_p=0.95, \n",
        "    num_return_sequences=3\n",
        ")\n",
        "\n",
        "print(\"Output:\\n\")\n",
        "for i, sample_output in enumerate(sample_outputs):\n",
        "  print(\"{}: {}\".format(i, tokenizer.decode(sample_output, skip_special_tokens=True)))"
      ],
      "execution_count": 15,
      "outputs": [
        {
          "output_type": "stream",
          "text": [
            "Output:\n",
            "\n",
            "0: After creating Arc Reacter,Iron man use it as a power source to his suit at the time.\n",
            "\n",
            "Gallery [ edit ]\n",
            "\n",
            "Click to see Gallery [ edit ]\n",
            "1: After creating Arc Reacter,Iron man use it as a power source to his suit, so he could absorb any energy he got and use it to charge the suit. When he went to fight, he was interrupted and struck in the face by a bullet that broke his nose. Once the bullet was gone, Iron man put the suit on and walked out on the town. However, he didn't feel well and couldn't continue fighting. With the time that he spent on the suit, he couldn\n",
            "2: After creating Arc Reacter,Iron man use it as a power source to his suit and to activate a special energy field. Upon taking him down, he used the shield and the energy field to stop the battle of Arc Reacter.\n",
            "\n",
            "In Episode 1: Dark World, Iron man uses his power to stop Dark World but manages to knock an enemy into the pit of darkness so he could enter the world without killing him. In Episode 2: Rise of Justice, Iron man uses his power to\n"
          ],
          "name": "stdout"
        }
      ]
    },
    {
      "cell_type": "code",
      "metadata": {
        "id": "FrDdNfXUICrx",
        "colab_type": "code",
        "colab": {}
      },
      "source": [
        ""
      ],
      "execution_count": null,
      "outputs": []
    }
  ]
}